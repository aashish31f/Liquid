{
 "cells": [
  {
   "cell_type": "code",
   "execution_count": 3,
   "metadata": {},
   "outputs": [
    {
     "name": "stdout",
     "output_type": "stream",
     "text": [
      "pygame 1.9.6\n",
      "Hello from the pygame community. https://www.pygame.org/contribute.html\n"
     ]
    }
   ],
   "source": [
    "from utils1 import *\n",
    "from moviepy.editor import *\n",
    "import os\n",
    "import shutil"
   ]
  },
  {
   "cell_type": "code",
   "execution_count": 4,
   "metadata": {},
   "outputs": [],
   "source": [
    "path = \"export.wav\""
   ]
  },
  {
   "cell_type": "code",
   "execution_count": 3,
   "metadata": {},
   "outputs": [],
   "source": [
    "def out(path):\n",
    "    chunk(path)\n",
    "    lst = []\n",
    "    outi = []\n",
    "    for filename in os.listdir(\"test_recordings\"):\n",
    "        x = preprocess('test_recordings/' + filename)\n",
    "        lst.append([x,filename])\n",
    "    for i in lst:\n",
    "        f = pred_speech(i[0])  # pridicting foreground or backgground\n",
    "        if f==1:\n",
    "            s = recognize_speech('test_recordings/' + i[1])\n",
    "            outi.append(s)\n",
    "        else:\n",
    "            s = pred_back(i[0])  # predicting background audio type\n",
    "            outi.append(s)\n",
    "    \n",
    "    return lst,outi\n",
    " \n",
    "    \n",
    "        \n",
    "        "
   ]
  },
  {
   "cell_type": "code",
   "execution_count": 5,
   "metadata": {},
   "outputs": [
    {
     "data": {
      "text/plain": [
       "'\\n0 = air_conditioner\\n1 = car_horn\\n2 = children_playing\\n3 = dog_bark\\n4 = drilling\\n5 = engine_idling\\n6 = gun_shot\\n7 = jackhammer\\n8 = siren\\n9 = street_music\\n'"
      ]
     },
     "execution_count": 5,
     "metadata": {},
     "output_type": "execute_result"
    }
   ],
   "source": [
    "\"\"\"\n",
    "0 = air_conditioner\n",
    "1 = car_horn\n",
    "2 = children_playing\n",
    "3 = dog_bark\n",
    "4 = drilling\n",
    "5 = engine_idling\n",
    "6 = gun_shot\n",
    "7 = jackhammer\n",
    "8 = siren\n",
    "9 = street_music\n",
    "\"\"\""
   ]
  },
  {
   "cell_type": "code",
   "execution_count": 18,
   "metadata": {},
   "outputs": [],
   "source": [
    "lst,outi = out(path)"
   ]
  },
  {
   "cell_type": "code",
   "execution_count": 19,
   "metadata": {},
   "outputs": [
    {
     "data": {
      "text/plain": [
       "['seems like this is a burger in house',\n",
       " 2,\n",
       " 3,\n",
       " 'be quick call the police they will be here in Moon',\n",
       " 8,\n",
       " 9]"
      ]
     },
     "execution_count": 19,
     "metadata": {},
     "output_type": "execute_result"
    }
   ],
   "source": [
    "outi"
   ]
  },
  {
   "cell_type": "code",
   "execution_count": 6,
   "metadata": {},
   "outputs": [],
   "source": [
    "lst = outi   #[\"seems like this is a burger in the house\", 6, 3, \"be quick call the police\", 8]"
   ]
  },
  {
   "cell_type": "code",
   "execution_count": 7,
   "metadata": {},
   "outputs": [
    {
     "name": "stdout",
     "output_type": "stream",
     "text": [
      "Moviepy - Building video videoClips/00.mp4.\n",
      "Moviepy - Writing video videoClips/00.mp4\n",
      "\n"
     ]
    },
    {
     "name": "stderr",
     "output_type": "stream",
     "text": [
      "                                                                                                                       \r"
     ]
    },
    {
     "name": "stdout",
     "output_type": "stream",
     "text": [
      "Moviepy - Done !\n",
      "Moviepy - video ready videoClips/00.mp4\n",
      "Moviepy - Building video videoClips/03.mp4.\n",
      "Moviepy - Writing video videoClips/03.mp4\n",
      "\n"
     ]
    },
    {
     "name": "stderr",
     "output_type": "stream",
     "text": [
      "                                                                                                                       \r"
     ]
    },
    {
     "name": "stdout",
     "output_type": "stream",
     "text": [
      "Moviepy - Done !\n",
      "Moviepy - video ready videoClips/03.mp4\n"
     ]
    }
   ],
   "source": [
    "os.mkdir(\"videoClips\")\n",
    "for i in range(len(lst)):\n",
    "    if(type(lst[i]) == str):\n",
    "        txt = TextClip(lst[i], font = 'Amiri-regular', color='white', fontsize=24)\n",
    "        txt.duration = 4\n",
    "        txt.write_videofile(\"videoClips/0\" + str(i) + \".mp4\", fps = 24)    \n",
    "    elif(type(lst[i] == int)):\n",
    "        path = \"gifs/\"\n",
    "        dirs = os.listdir( path )\n",
    "        shutil.copyfile('gifs/' + str(lst[i]) + '.mp4', 'videoClips/0' + str(i) + '.mp4')\n",
    "        "
   ]
  },
  {
   "cell_type": "code",
   "execution_count": 8,
   "metadata": {},
   "outputs": [],
   "source": [
    "from moviepy.editor import VideoFileClip, concatenate_videoclips"
   ]
  },
  {
   "cell_type": "code",
   "execution_count": 9,
   "metadata": {},
   "outputs": [],
   "source": [
    "name = os.listdir(\"videoClips\")"
   ]
  },
  {
   "cell_type": "code",
   "execution_count": 10,
   "metadata": {},
   "outputs": [
    {
     "data": {
      "text/plain": [
       "['00.mp4', '01.mp4', '02.mp4', '03.mp4', '04.mp4']"
      ]
     },
     "execution_count": 10,
     "metadata": {},
     "output_type": "execute_result"
    }
   ],
   "source": [
    "name"
   ]
  },
  {
   "cell_type": "code",
   "execution_count": 11,
   "metadata": {},
   "outputs": [],
   "source": [
    "lsta = []\n",
    "for i in name:\n",
    "    clip = VideoFileClip(\"videoClips/\"+i)\n",
    "    lsta.append(clip)"
   ]
  },
  {
   "cell_type": "code",
   "execution_count": 12,
   "metadata": {},
   "outputs": [
    {
     "data": {
      "text/plain": [
       "[<moviepy.video.io.VideoFileClip.VideoFileClip at 0x2f9ee8c6208>,\n",
       " <moviepy.video.io.VideoFileClip.VideoFileClip at 0x2f9ee8c6128>,\n",
       " <moviepy.video.io.VideoFileClip.VideoFileClip at 0x2f9ee00e0b8>,\n",
       " <moviepy.video.io.VideoFileClip.VideoFileClip at 0x2f9dd434208>,\n",
       " <moviepy.video.io.VideoFileClip.VideoFileClip at 0x2f9f073df98>]"
      ]
     },
     "execution_count": 12,
     "metadata": {},
     "output_type": "execute_result"
    }
   ],
   "source": [
    "lsta"
   ]
  },
  {
   "cell_type": "code",
   "execution_count": 13,
   "metadata": {},
   "outputs": [
    {
     "name": "stdout",
     "output_type": "stream",
     "text": [
      "Moviepy - Building video my_concatenation.mp4.\n",
      "Moviepy - Writing video my_concatenation.mp4\n",
      "\n"
     ]
    },
    {
     "name": "stderr",
     "output_type": "stream",
     "text": [
      "                                                                                                                       \r"
     ]
    },
    {
     "name": "stdout",
     "output_type": "stream",
     "text": [
      "Moviepy - Done !\n",
      "Moviepy - video ready my_concatenation.mp4\n"
     ]
    }
   ],
   "source": [
    "final_clip = concatenate_videoclips(lsta, method='compose')\n",
    "final_clip.write_videofile(\"my_concatenation.mp4\")"
   ]
  },
  {
   "cell_type": "code",
   "execution_count": null,
   "metadata": {},
   "outputs": [],
   "source": []
  }
 ],
 "metadata": {
  "kernelspec": {
   "display_name": "Python 3",
   "language": "python",
   "name": "python3"
  }
 },
 "nbformat": 4,
 "nbformat_minor": 2
}
